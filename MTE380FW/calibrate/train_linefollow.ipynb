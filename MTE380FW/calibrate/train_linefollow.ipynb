{
 "cells": [
  {
   "cell_type": "code",
   "execution_count": null,
   "metadata": {},
   "outputs": [],
   "source": [
    "import math\n",
    "\n",
    "import pandas as pd"
   ]
  },
  {
   "cell_type": "code",
   "execution_count": null,
   "metadata": {},
   "outputs": [],
   "source": [
    "MAX_STEER = 100.0\n",
    "MAX_LF_STEER = 1.0  # max fraction of MAX_STEER that it will do while line following\n",
    "\n",
    "N = 100  # number of data points in normalized datasets\n",
    "\n",
    "R_R_R = 950  # calibrated \"red\" values for right sensor\n",
    "G_R_R = 90 # 240  # i.e. below this value you're 100% confident you're fully on tape\n",
    "B_R_R = 180\n",
    "\n",
    "R_W_R = 1030  # calibrated \"wood\" values for right sensor\n",
    "G_W_R = 500 # 780  # i.e. above this value you're 100% confident you're fully on wood\n",
    "B_W_R = 360\n",
    "\n",
    "R_R_L = 1010  # calibrated \"red\" values for left sensor\n",
    "G_R_L = 90 # 250\n",
    "B_R_L = 220\n",
    "\n",
    "R_W_L = 1150  # calibrated \"wood\" values for left sensor\n",
    "G_W_L = 500 # 900\n",
    "B_W_L = 500"
   ]
  },
  {
   "cell_type": "code",
   "execution_count": null,
   "metadata": {},
   "outputs": [],
   "source": [
    "TRAIN_ITERATIONS = 200\n",
    "TRAIN_STEP = 1.0\n",
    "weights = [100.0, 100.0]\n",
    "def lf_algorithm(weights, r_l, g_l, b_l, r_r, g_r, b_r):\n",
    "    L_notred = abs(weights[0] * (g_l - G_R_L))\n",
    "    R_notred = abs(weights[1] * (g_r - G_R_R))\n",
    "    delta = L_notred - R_notred\n",
    "    max_delta = max(abs(weights[0] * (G_W_L - G_R_L)), abs(weights[1] * (G_W_R - G_R_R)))\n",
    "    delta_ratio = abs(delta / max_delta)\n",
    "    # if delta_ratio < 0.01:\n",
    "    #     delta_ratio = 0\n",
    "    # else:\n",
    "    #     delta_ratio = (math.log(delta_ratio / (1 - delta_ratio)) + 4.5) / 9\n",
    "    steer = (MAX_STEER * MAX_LF_STEER) * delta_ratio\n",
    "    if delta < -1:\n",
    "        steer *= -1\n",
    "    return steer"
   ]
  },
  {
   "cell_type": "code",
   "execution_count": null,
   "metadata": {},
   "outputs": [],
   "source": [
    "def lf_algorithm_steers(weights, l_df, r_df):\n",
    "    steers = []\n",
    "    for i in range(N):\n",
    "        steers.append(\n",
    "            lf_algorithm(\n",
    "                weights,\n",
    "                l_df.loc[i, \"R\"],\n",
    "                l_df.loc[i, \"G\"],\n",
    "                l_df.loc[i, \"B\"],\n",
    "                r_df.loc[i, \"R\"],\n",
    "                r_df.loc[i, \"G\"],\n",
    "                r_df.loc[i, \"B\"],\n",
    "            )\n",
    "        )\n",
    "    return steers"
   ]
  },
  {
   "cell_type": "code",
   "execution_count": null,
   "metadata": {},
   "outputs": [],
   "source": [
    "def input_data():\n",
    "    r_r = []\n",
    "    g_r = []\n",
    "    b_r = []\n",
    "    r_l = []\n",
    "    g_l = []\n",
    "    b_l = []\n",
    "\n",
    "    for i in range(N):\n",
    "        r_r.append(R_R_R + ((R_W_R - R_R_R) / (1 + math.exp(-1 * ((1 / 4) * i - 5)))))\n",
    "        g_r.append(G_R_R + ((G_W_R - G_R_R) / (1 + math.exp(-1 * ((1 / 4) * i - 5)))))\n",
    "        b_r.append(B_R_R + ((B_W_R - B_R_R) / (1 + math.exp(-1 * ((1 / 4) * i - 5)))))\n",
    "        r_l.append(R_W_L + (-1 * (R_W_L - R_R_L) / (1 + math.exp(-1 * ((1 / 4) * i - 20)))))\n",
    "        g_l.append(G_W_L + (-1 * (G_W_L - G_R_L) / (1 + math.exp(-1 * ((1 / 4) * i - 20)))))\n",
    "        b_l.append(B_W_L + (-1 * (B_W_L - B_R_L) / (1 + math.exp(-1 * ((1 / 4) * i - 20)))))\n",
    "\n",
    "    return [\n",
    "        pd.DataFrame({\"R\": r_r, \"G\": g_r, \"B\": b_r}),\n",
    "        pd.DataFrame({\"R\": r_l, \"G\": g_l, \"B\": b_l}),\n",
    "    ]"
   ]
  },
  {
   "cell_type": "code",
   "execution_count": null,
   "metadata": {},
   "outputs": [],
   "source": [
    "def ideal_steer():\n",
    "    steers = []\n",
    "    for i in range(0, math.ceil(0.8 * (N / 2))):\n",
    "        steers.append(\n",
    "            (MAX_STEER * MAX_LF_STEER)\n",
    "            * (math.floor(0.8 * (N / 2)) - i)\n",
    "            / math.floor(0.8 * (N / 2))\n",
    "        )\n",
    "    for i in range(math.ceil(0.8 * (N / 2)), math.ceil(1.2 * (N / 2))):\n",
    "        steers.append(0)\n",
    "    for i in range(math.ceil(1.2 * (N / 2)), N):\n",
    "        steers.append(\n",
    "            -1\n",
    "            * (MAX_STEER * MAX_LF_STEER)\n",
    "            * (i - math.ceil(1.2 * (N / 2)))\n",
    "            / (N - math.ceil(1.2 * (N / 2)))\n",
    "        )\n",
    "    steers.remove(0.0)\n",
    "    steers.append(-100.0)\n",
    "    return steers"
   ]
  },
  {
   "cell_type": "code",
   "execution_count": null,
   "metadata": {},
   "outputs": [],
   "source": [
    "def error(actual, ideal):\n",
    "    total_e = 0.0\n",
    "    for i in range(N):\n",
    "        total_e += abs(actual[i] - ideal[i])\n",
    "    return total_e / N"
   ]
  },
  {
   "cell_type": "code",
   "execution_count": null,
   "metadata": {},
   "outputs": [],
   "source": [
    "def calc_gradient(weights, l_df, r_df, linear):\n",
    "    weights_copy = weights.copy()\n",
    "    gradient = [0.0 for _ in range(len(weights))]\n",
    "    for i in range(len(weights_copy)):\n",
    "        # increase weight, calculate derror/dwi based on amount error changes\n",
    "        e_before = error(lf_algorithm_steers(weights_copy, l_df, r_df), linear)\n",
    "        weights_copy[i] += TRAIN_STEP\n",
    "        e_after = error(lf_algorithm_steers(weights_copy, l_df, r_df), linear)\n",
    "        weights_copy[i] -= TRAIN_STEP\n",
    "        gradient[i] = ((e_before - e_after) / TRAIN_STEP)\n",
    "\n",
    "        # if error increased, check if decreasing weight actually decreases error\n",
    "        if gradient[i] < 0:\n",
    "            e_before = error(lf_algorithm_steers(weights_copy, l_df, r_df), linear)\n",
    "            weights_copy[i] -= TRAIN_STEP\n",
    "            e_after = error(lf_algorithm_steers(weights_copy, l_df, r_df), linear)\n",
    "            weights_copy[i] += TRAIN_STEP\n",
    "            # if changing weight in either direction increases error, set gradient = 0\n",
    "            if e_after > e_before:\n",
    "                gradient[i] = 0\n",
    "    return gradient"
   ]
  },
  {
   "cell_type": "code",
   "execution_count": null,
   "metadata": {},
   "outputs": [],
   "source": [
    "def train():\n",
    "    dfs = input_data()\n",
    "    l_df = dfs[1]\n",
    "    r_df = dfs[0]\n",
    "    plot_cols = [\"r\", \"g\", \"b\"]\n",
    "    l_df.plot(title=\"L colour data\", color=plot_cols)\n",
    "    r_df.plot(title=\"R colour data\", color=plot_cols)\n",
    "\n",
    "    print(f\"Weights before training: {weights}\")\n",
    "\n",
    "    steer_vals_untrained = lf_algorithm_steers(weights, l_df, r_df)\n",
    "    ideal = ideal_steer()\n",
    "    e = error(lf_algorithm_steers(weights, l_df, r_df), ideal)\n",
    "    print(f\"Error before training: {e}\")\n",
    "    plot_df = pd.DataFrame({\"actual\": steer_vals_untrained, \"ideal\": ideal})\n",
    "    plot_df.plot(title=\"Before Training\")\n",
    "\n",
    "    for i in range(TRAIN_ITERATIONS):\n",
    "        gradient = calc_gradient(weights, l_df, r_df, ideal)\n",
    "        for j in range(len(weights)):\n",
    "            weights[j] += gradient[j] * 10\n",
    "\n",
    "    print(f\"Weights after training: {weights}\")\n",
    "    e = error(lf_algorithm_steers(weights, l_df, r_df), ideal)\n",
    "    print(f\"Error after training: {e}\")\n",
    "    steer_vals_trained = lf_algorithm_steers(weights, l_df, r_df)\n",
    "    plot_df = pd.DataFrame({\"actual\": steer_vals_trained, \"ideal\": ideal})\n",
    "    plot_df.plot(title=\"After Training\")\n",
    "\n",
    "\n",
    "train()"
   ]
  }
 ],
 "metadata": {
  "kernelspec": {
   "display_name": "Python 3",
   "language": "python",
   "name": "python3"
  },
  "language_info": {
   "codemirror_mode": {
    "name": "ipython",
    "version": 3
   },
   "file_extension": ".py",
   "mimetype": "text/x-python",
   "name": "python",
   "nbconvert_exporter": "python",
   "pygments_lexer": "ipython3",
   "version": "3.11.8"
  }
 },
 "nbformat": 4,
 "nbformat_minor": 2
}
